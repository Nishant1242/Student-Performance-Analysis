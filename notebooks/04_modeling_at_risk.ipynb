{
 "cells": [
  {
   "cell_type": "code",
   "execution_count": 3,
   "id": "00f52da1",
   "metadata": {},
   "outputs": [
    {
     "name": "stdout",
     "output_type": "stream",
     "text": [
      "at_risk\n",
      "0    0.715\n",
      "1    0.285\n",
      "Name: proportion, dtype: float64\n",
      "🔍 Classification Report:\n",
      "              precision    recall  f1-score   support\n",
      "\n",
      " Not At Risk       1.00      0.99      1.00       143\n",
      "     At Risk       0.98      1.00      0.99        57\n",
      "\n",
      "    accuracy                           0.99       200\n",
      "   macro avg       0.99      1.00      0.99       200\n",
      "weighted avg       1.00      0.99      1.00       200\n",
      "\n"
     ]
    },
    {
     "data": {
      "image/png": "[encoded data removed]",
      "text/plain": [
       "<Figure size 500x400 with 2 Axes>"
      ]
     },
     "metadata": {},
     "output_type": "display_data"
    },
    {
     "name": "stdout",
     "output_type": "stream",
     "text": [
      "✅ Model saved to models/at_risk_model.pkl\n"
     ]
    }
   ],
   "source": [
    "# 📘 At-Risk Student Classification\n",
    "# Goal: Predict if a student is at risk (average_score < 60)\n",
    "\n",
    "import pandas as pd\n",
    "import numpy as np\n",
    "from sklearn.model_selection import train_test_split\n",
    "from sklearn.metrics import classification_report, confusion_matrix\n",
    "from sklearn.ensemble import RandomForestClassifier\n",
    "from sklearn.linear_model import LogisticRegression\n",
    "import joblib\n",
    "import matplotlib.pyplot as plt\n",
    "import seaborn as sns\n",
    "\n",
    "# Load cleaned data\n",
    "df = pd.read_csv(\"../data/cleaned/students_cleaned.csv\")\n",
    "\n",
    "# -------------------------------------\n",
    "# 🎯 Step 1: Create 'at_risk' target\n",
    "# -------------------------------------\n",
    "df['at_risk'] = df['average_score'].apply(lambda x: 1 if x < 60 else 0)\n",
    "\n",
    "# Check class balance\n",
    "print(df['at_risk'].value_counts(normalize=True))\n",
    "\n",
    "# -------------------------------------\n",
    "# 🧹 Step 2: Preprocess\n",
    "# -------------------------------------\n",
    "X = df.drop(columns=[\"average_score\", \"performance\", \"at_risk\"])\n",
    "X = pd.get_dummies(X, drop_first=True)\n",
    "y = df[\"at_risk\"]\n",
    "\n",
    "X_train, X_test, y_train, y_test = train_test_split(\n",
    "    X, y, stratify=y, test_size=0.2, random_state=42\n",
    ")\n",
    "\n",
    "# -------------------------------------\n",
    "# ⚙️ Step 3: Train Classifier (Logistic Regression)\n",
    "# -------------------------------------\n",
    "model = LogisticRegression(max_iter=1000)\n",
    "model.fit(X_train, y_train)\n",
    "\n",
    "# -------------------------------------\n",
    "# 📊 Step 4: Evaluation\n",
    "# -------------------------------------\n",
    "y_pred = model.predict(X_test)\n",
    "\n",
    "print(\"🔍 Classification Report:\")\n",
    "print(classification_report(y_test, y_pred, target_names=[\"Not At Risk\", \"At Risk\"]))\n",
    "\n",
    "# Confusion Matrix\n",
    "plt.figure(figsize=(5,4))\n",
    "sns.heatmap(confusion_matrix(y_test, y_pred), annot=True, fmt=\"d\", cmap=\"Blues\",\n",
    "            xticklabels=[\"Not At Risk\", \"At Risk\"], yticklabels=[\"Not At Risk\", \"At Risk\"])\n",
    "plt.title(\"Confusion Matrix\")\n",
    "plt.xlabel(\"Predicted\")\n",
    "plt.ylabel(\"Actual\")\n",
    "plt.tight_layout()\n",
    "plt.show()\n",
    "\n",
    "# -------------------------------------\n",
    "# 💾 Step 5: Save Model\n",
    "# -------------------------------------\n",
    "joblib.dump(model, \"../models/at_risk_model.pkl\")\n",
    "print(\"✅ Model saved to models/at_risk_model.pkl\")\n"
   ]
  }
 ],
 "metadata": {
  "kernelspec": {
   "display_name": "student_analysis",
   "language": "python",
   "name": "python3"
  },
  "language_info": {
   "codemirror_mode": {
    "name": "ipython",
    "version": 3
   },
   "file_extension": ".py",
   "mimetype": "text/x-python",
   "name": "python",
   "nbconvert_exporter": "python",
   "pygments_lexer": "ipython3",
   "version": "3.9.21"
  }
 },
 "nbformat": 4,
 "nbformat_minor": 5
}
