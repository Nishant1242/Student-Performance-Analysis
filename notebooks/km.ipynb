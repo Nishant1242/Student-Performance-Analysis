{
 "cells": [
  {
   "cell_type": "code",
   "execution_count": 1,
   "id": "4544eeed",
   "metadata": {},
   "outputs": [
    {
     "ename": "ModuleNotFoundError",
     "evalue": "No module named 'shap'",
     "output_type": "error",
     "traceback": [
      "\u001b[1;31m---------------------------------------------------------------------------\u001b[0m",
      "\u001b[1;31mModuleNotFoundError\u001b[0m                       Traceback (most recent call last)",
      "Cell \u001b[1;32mIn[1], line 5\u001b[0m\n\u001b[0;32m      3\u001b[0m \u001b[38;5;28;01mimport\u001b[39;00m\u001b[38;5;250m \u001b[39m\u001b[38;5;21;01mpandas\u001b[39;00m\u001b[38;5;250m \u001b[39m\u001b[38;5;28;01mas\u001b[39;00m\u001b[38;5;250m \u001b[39m\u001b[38;5;21;01mpd\u001b[39;00m\n\u001b[0;32m      4\u001b[0m \u001b[38;5;28;01mimport\u001b[39;00m\u001b[38;5;250m \u001b[39m\u001b[38;5;21;01mjoblib\u001b[39;00m\n\u001b[1;32m----> 5\u001b[0m \u001b[38;5;28;01mimport\u001b[39;00m\u001b[38;5;250m \u001b[39m\u001b[38;5;21;01mshap\u001b[39;00m\n\u001b[0;32m      6\u001b[0m \u001b[38;5;28;01mimport\u001b[39;00m\u001b[38;5;250m \u001b[39m\u001b[38;5;21;01mmatplotlib\u001b[39;00m\u001b[38;5;21;01m.\u001b[39;00m\u001b[38;5;21;01mpyplot\u001b[39;00m\u001b[38;5;250m \u001b[39m\u001b[38;5;28;01mas\u001b[39;00m\u001b[38;5;250m \u001b[39m\u001b[38;5;21;01mplt\u001b[39;00m\n\u001b[0;32m      8\u001b[0m \u001b[38;5;66;03m# Load cleaned data and trained model\u001b[39;00m\n",
      "\u001b[1;31mModuleNotFoundError\u001b[0m: No module named 'shap'"
     ]
    }
   ],
   "source": [
    "# 📘 SHAP Explainability for At-Risk Model\n",
    "\n",
    "import pandas as pd\n",
    "import joblib\n",
    "import shap\n",
    "import matplotlib.pyplot as plt\n",
    "\n",
    "# Load cleaned data and trained model\n",
    "df = pd.read_csv(\"../data/cleaned/students_cleaned.csv\")\n",
    "model = joblib.load(\"../models/at_risk_model.pkl\")\n",
    "\n",
    "# Create 'at_risk' target again\n",
    "df['at_risk'] = df['average_score'].apply(lambda x: 1 if x < 60 else 0)\n",
    "\n",
    "# Drop target and unused columns\n",
    "X = df.drop(columns=['average_score', 'performance', 'at_risk'])\n",
    "X = pd.get_dummies(X, drop_first=True)\n",
    "X = X.reindex(sorted(X.columns), axis=1)  # Ensure consistent column order\n",
    "\n",
    "# Select one student to explain\n",
    "X_sample = X.sample(1, random_state=42)\n",
    "print(\"🔍 Selected student info:\\n\", X_sample)\n",
    "\n",
    "# ------------------------------\n",
    "# 🧠 Create SHAP Explainer\n",
    "# ------------------------------\n",
    "explainer = shap.Explainer(model, X)\n",
    "shap_values = explainer(X_sample)\n",
    "\n",
    "# ------------------------------\n",
    "# 📊 Visualizations\n",
    "# ------------------------------\n",
    "\n",
    "# Waterfall Plot for the selected student\n",
    "print(\"💡 Waterfall Plot - Impact of features on prediction\")\n",
    "shap.plots.waterfall(shap_values[0])\n",
    "plt.tight_layout()\n",
    "plt.show()\n",
    "\n",
    "# Summary Plot (Optional - for full dataset)\n",
    "print(\"📈 SHAP Summary Plot for All Features\")\n",
    "shap_values_full = explainer(X)\n",
    "shap.plots.beeswarm(shap_values_full)\n",
    "plt.tight_layout()\n",
    "plt.show()\n"
   ]
  }
 ],
 "metadata": {
  "kernelspec": {
   "display_name": "student_analysis",
   "language": "python",
   "name": "python3"
  },
  "language_info": {
   "codemirror_mode": {
    "name": "ipython",
    "version": 3
   },
   "file_extension": ".py",
   "mimetype": "text/x-python",
   "name": "python",
   "nbconvert_exporter": "python",
   "pygments_lexer": "ipython3",
   "version": "3.9.21"
  }
 },
 "nbformat": 4,
 "nbformat_minor": 5
}
